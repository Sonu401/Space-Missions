{
 "cells": [
  {
   "cell_type": "markdown",
   "id": "20b4720b-ad35-4517-9070-c2100613edba",
   "metadata": {},
   "source": [
    "# Space missions analysis"
   ]
  },
  {
   "cell_type": "raw",
   "id": "a64541f3-b633-4d20-ae77-2e7216fbe15b",
   "metadata": {},
   "source": [
    "▶Project : Space Missions(Dataset containing all space missions from 1957 to August 2022)\n",
    "\n",
    "Author: SONU KUMAR KUSHWAHA\n",
    "\n",
    "\n",
    "The dataset consist of all space missions from 1957 to August 2022, including details on the location, date, and result of\n",
    "the launch, the company responsible, and the name, price, and status of the rocket used for the mission. It is downloaded\n",
    "from Maven Analytics.\n",
    "\n",
    "Exploration of the universe is the dream of every scientist and to accomplish that dream space missions have taken place\n",
    "since a long time with some successful attempts and today I am here to analyse about space missions that had taken\n",
    "place in past to extract some valuable information.\n",
    "\n",
    "Questions that I tried to answer in dataset¶\n",
    "How have rocket launches trended across time?\n",
    "Which countries have had the most successful space missions?\n",
    "Which rocket has been used for the most space missions? Is it still active?\n",
    "Success of mission in comparison to the failure of misson is more or less?\n",
    "Which company carried most of the space missions?"
   ]
  },
  {
   "cell_type": "markdown",
   "id": "3ad8cbf5-c07d-4238-8c15-9597abd37019",
   "metadata": {},
   "source": [
    "# Data Cleaning and Preparation"
   ]
  },
  {
   "cell_type": "code",
   "execution_count": 10,
   "id": "5efc8743-ff82-4e1b-875b-bc7c4ff1f5fc",
   "metadata": {},
   "outputs": [],
   "source": [
    "import numpy as np\n",
    "import pandas as pd\n",
    "import matplotlib.pyplot as plt\n",
    "import seaborn as sns"
   ]
  },
  {
   "cell_type": "code",
   "execution_count": 25,
   "id": "b623242d-1d2d-433d-a375-4b5195405710",
   "metadata": {},
   "outputs": [],
   "source": [
    "space_missions_raw_df = pd.read_csv(\"space_missions.csv\", encoding='latin1')\n"
   ]
  },
  {
   "cell_type": "code",
   "execution_count": 26,
   "id": "4f6ef794-2f5e-4d83-8e9a-c77b1bed92a3",
   "metadata": {},
   "outputs": [
    {
     "data": {
      "text/html": [
       "<div>\n",
       "<style scoped>\n",
       "    .dataframe tbody tr th:only-of-type {\n",
       "        vertical-align: middle;\n",
       "    }\n",
       "\n",
       "    .dataframe tbody tr th {\n",
       "        vertical-align: top;\n",
       "    }\n",
       "\n",
       "    .dataframe thead th {\n",
       "        text-align: right;\n",
       "    }\n",
       "</style>\n",
       "<table border=\"1\" class=\"dataframe\">\n",
       "  <thead>\n",
       "    <tr style=\"text-align: right;\">\n",
       "      <th></th>\n",
       "      <th>Company</th>\n",
       "      <th>Location</th>\n",
       "      <th>Date</th>\n",
       "      <th>Time</th>\n",
       "      <th>Rocket</th>\n",
       "      <th>Mission</th>\n",
       "      <th>RocketStatus</th>\n",
       "      <th>Price</th>\n",
       "      <th>MissionStatus</th>\n",
       "    </tr>\n",
       "  </thead>\n",
       "  <tbody>\n",
       "    <tr>\n",
       "      <th>0</th>\n",
       "      <td>RVSN USSR</td>\n",
       "      <td>Site 1/5, Baikonur Cosmodrome, Kazakhstan</td>\n",
       "      <td>1957-10-04</td>\n",
       "      <td>19:28:00</td>\n",
       "      <td>Sputnik 8K71PS</td>\n",
       "      <td>Sputnik-1</td>\n",
       "      <td>Retired</td>\n",
       "      <td>NaN</td>\n",
       "      <td>Success</td>\n",
       "    </tr>\n",
       "    <tr>\n",
       "      <th>1</th>\n",
       "      <td>RVSN USSR</td>\n",
       "      <td>Site 1/5, Baikonur Cosmodrome, Kazakhstan</td>\n",
       "      <td>1957-11-03</td>\n",
       "      <td>02:30:00</td>\n",
       "      <td>Sputnik 8K71PS</td>\n",
       "      <td>Sputnik-2</td>\n",
       "      <td>Retired</td>\n",
       "      <td>NaN</td>\n",
       "      <td>Success</td>\n",
       "    </tr>\n",
       "    <tr>\n",
       "      <th>2</th>\n",
       "      <td>US Navy</td>\n",
       "      <td>LC-18A, Cape Canaveral AFS, Florida, USA</td>\n",
       "      <td>1957-12-06</td>\n",
       "      <td>16:44:00</td>\n",
       "      <td>Vanguard</td>\n",
       "      <td>Vanguard TV3</td>\n",
       "      <td>Retired</td>\n",
       "      <td>NaN</td>\n",
       "      <td>Failure</td>\n",
       "    </tr>\n",
       "    <tr>\n",
       "      <th>3</th>\n",
       "      <td>AMBA</td>\n",
       "      <td>LC-26A, Cape Canaveral AFS, Florida, USA</td>\n",
       "      <td>1958-02-01</td>\n",
       "      <td>03:48:00</td>\n",
       "      <td>Juno I</td>\n",
       "      <td>Explorer 1</td>\n",
       "      <td>Retired</td>\n",
       "      <td>NaN</td>\n",
       "      <td>Success</td>\n",
       "    </tr>\n",
       "    <tr>\n",
       "      <th>4</th>\n",
       "      <td>US Navy</td>\n",
       "      <td>LC-18A, Cape Canaveral AFS, Florida, USA</td>\n",
       "      <td>1958-02-05</td>\n",
       "      <td>07:33:00</td>\n",
       "      <td>Vanguard</td>\n",
       "      <td>Vanguard TV3BU</td>\n",
       "      <td>Retired</td>\n",
       "      <td>NaN</td>\n",
       "      <td>Failure</td>\n",
       "    </tr>\n",
       "    <tr>\n",
       "      <th>...</th>\n",
       "      <td>...</td>\n",
       "      <td>...</td>\n",
       "      <td>...</td>\n",
       "      <td>...</td>\n",
       "      <td>...</td>\n",
       "      <td>...</td>\n",
       "      <td>...</td>\n",
       "      <td>...</td>\n",
       "      <td>...</td>\n",
       "    </tr>\n",
       "    <tr>\n",
       "      <th>4625</th>\n",
       "      <td>SpaceX</td>\n",
       "      <td>SLC-4E, Vandenberg SFB, California, USA</td>\n",
       "      <td>2022-07-22</td>\n",
       "      <td>17:39:00</td>\n",
       "      <td>Falcon 9 Block 5</td>\n",
       "      <td>Starlink Group 3-2</td>\n",
       "      <td>Active</td>\n",
       "      <td>67</td>\n",
       "      <td>Success</td>\n",
       "    </tr>\n",
       "    <tr>\n",
       "      <th>4626</th>\n",
       "      <td>CASC</td>\n",
       "      <td>LC-101, Wenchang Satellite Launch Center, China</td>\n",
       "      <td>2022-07-24</td>\n",
       "      <td>06:22:00</td>\n",
       "      <td>Long March 5B</td>\n",
       "      <td>Wentian</td>\n",
       "      <td>Active</td>\n",
       "      <td>NaN</td>\n",
       "      <td>Success</td>\n",
       "    </tr>\n",
       "    <tr>\n",
       "      <th>4627</th>\n",
       "      <td>SpaceX</td>\n",
       "      <td>LC-39A, Kennedy Space Center, Florida, USA</td>\n",
       "      <td>2022-07-24</td>\n",
       "      <td>13:38:00</td>\n",
       "      <td>Falcon 9 Block 5</td>\n",
       "      <td>Starlink Group 4-25</td>\n",
       "      <td>Active</td>\n",
       "      <td>67</td>\n",
       "      <td>Success</td>\n",
       "    </tr>\n",
       "    <tr>\n",
       "      <th>4628</th>\n",
       "      <td>CAS Space</td>\n",
       "      <td>Jiuquan Satellite Launch Center, China</td>\n",
       "      <td>2022-07-27</td>\n",
       "      <td>04:12:00</td>\n",
       "      <td>Zhongke-1A</td>\n",
       "      <td>Demo Flight</td>\n",
       "      <td>Active</td>\n",
       "      <td>NaN</td>\n",
       "      <td>Success</td>\n",
       "    </tr>\n",
       "    <tr>\n",
       "      <th>4629</th>\n",
       "      <td>CASC</td>\n",
       "      <td>LC-3, Xichang Satellite Launch Center, China</td>\n",
       "      <td>2022-07-29</td>\n",
       "      <td>13:28:00</td>\n",
       "      <td>Long March 2D</td>\n",
       "      <td>Yaogan 35 Group 03</td>\n",
       "      <td>Active</td>\n",
       "      <td>29.75</td>\n",
       "      <td>Success</td>\n",
       "    </tr>\n",
       "  </tbody>\n",
       "</table>\n",
       "<p>4630 rows × 9 columns</p>\n",
       "</div>"
      ],
      "text/plain": [
       "        Company                                         Location        Date  \\\n",
       "0     RVSN USSR        Site 1/5, Baikonur Cosmodrome, Kazakhstan  1957-10-04   \n",
       "1     RVSN USSR        Site 1/5, Baikonur Cosmodrome, Kazakhstan  1957-11-03   \n",
       "2       US Navy         LC-18A, Cape Canaveral AFS, Florida, USA  1957-12-06   \n",
       "3          AMBA         LC-26A, Cape Canaveral AFS, Florida, USA  1958-02-01   \n",
       "4       US Navy         LC-18A, Cape Canaveral AFS, Florida, USA  1958-02-05   \n",
       "...         ...                                              ...         ...   \n",
       "4625     SpaceX          SLC-4E, Vandenberg SFB, California, USA  2022-07-22   \n",
       "4626       CASC  LC-101, Wenchang Satellite Launch Center, China  2022-07-24   \n",
       "4627     SpaceX       LC-39A, Kennedy Space Center, Florida, USA  2022-07-24   \n",
       "4628  CAS Space           Jiuquan Satellite Launch Center, China  2022-07-27   \n",
       "4629       CASC     LC-3, Xichang Satellite Launch Center, China  2022-07-29   \n",
       "\n",
       "          Time            Rocket              Mission RocketStatus  Price  \\\n",
       "0     19:28:00    Sputnik 8K71PS            Sputnik-1      Retired    NaN   \n",
       "1     02:30:00    Sputnik 8K71PS            Sputnik-2      Retired    NaN   \n",
       "2     16:44:00          Vanguard         Vanguard TV3      Retired    NaN   \n",
       "3     03:48:00            Juno I           Explorer 1      Retired    NaN   \n",
       "4     07:33:00          Vanguard       Vanguard TV3BU      Retired    NaN   \n",
       "...        ...               ...                  ...          ...    ...   \n",
       "4625  17:39:00  Falcon 9 Block 5   Starlink Group 3-2       Active     67   \n",
       "4626  06:22:00     Long March 5B              Wentian       Active    NaN   \n",
       "4627  13:38:00  Falcon 9 Block 5  Starlink Group 4-25       Active     67   \n",
       "4628  04:12:00        Zhongke-1A          Demo Flight       Active    NaN   \n",
       "4629  13:28:00     Long March 2D   Yaogan 35 Group 03       Active  29.75   \n",
       "\n",
       "     MissionStatus  \n",
       "0          Success  \n",
       "1          Success  \n",
       "2          Failure  \n",
       "3          Success  \n",
       "4          Failure  \n",
       "...            ...  \n",
       "4625       Success  \n",
       "4626       Success  \n",
       "4627       Success  \n",
       "4628       Success  \n",
       "4629       Success  \n",
       "\n",
       "[4630 rows x 9 columns]"
      ]
     },
     "execution_count": 26,
     "metadata": {},
     "output_type": "execute_result"
    }
   ],
   "source": [
    "space_missions_raw_df"
   ]
  },
  {
   "cell_type": "code",
   "execution_count": 27,
   "id": "5b8d1ca1-b529-40ae-8aae-424933daaaae",
   "metadata": {},
   "outputs": [
    {
     "data": {
      "text/plain": [
       "(4630, 9)"
      ]
     },
     "execution_count": 27,
     "metadata": {},
     "output_type": "execute_result"
    }
   ],
   "source": [
    "space_missions_raw_df.shape"
   ]
  },
  {
   "cell_type": "code",
   "execution_count": 28,
   "id": "6763fc69-8294-41cb-b8a7-9abb4a099af8",
   "metadata": {},
   "outputs": [
    {
     "data": {
      "text/html": [
       "<div>\n",
       "<style scoped>\n",
       "    .dataframe tbody tr th:only-of-type {\n",
       "        vertical-align: middle;\n",
       "    }\n",
       "\n",
       "    .dataframe tbody tr th {\n",
       "        vertical-align: top;\n",
       "    }\n",
       "\n",
       "    .dataframe thead th {\n",
       "        text-align: right;\n",
       "    }\n",
       "</style>\n",
       "<table border=\"1\" class=\"dataframe\">\n",
       "  <thead>\n",
       "    <tr style=\"text-align: right;\">\n",
       "      <th></th>\n",
       "      <th>Company</th>\n",
       "      <th>Location</th>\n",
       "      <th>Date</th>\n",
       "      <th>Time</th>\n",
       "      <th>Rocket</th>\n",
       "      <th>Mission</th>\n",
       "      <th>RocketStatus</th>\n",
       "      <th>Price</th>\n",
       "      <th>MissionStatus</th>\n",
       "    </tr>\n",
       "  </thead>\n",
       "  <tbody>\n",
       "    <tr>\n",
       "      <th>count</th>\n",
       "      <td>4630</td>\n",
       "      <td>4630</td>\n",
       "      <td>4630</td>\n",
       "      <td>4503</td>\n",
       "      <td>4630</td>\n",
       "      <td>4630</td>\n",
       "      <td>4630</td>\n",
       "      <td>1265</td>\n",
       "      <td>4630</td>\n",
       "    </tr>\n",
       "    <tr>\n",
       "      <th>unique</th>\n",
       "      <td>62</td>\n",
       "      <td>158</td>\n",
       "      <td>4180</td>\n",
       "      <td>1300</td>\n",
       "      <td>370</td>\n",
       "      <td>4556</td>\n",
       "      <td>2</td>\n",
       "      <td>65</td>\n",
       "      <td>4</td>\n",
       "    </tr>\n",
       "    <tr>\n",
       "      <th>top</th>\n",
       "      <td>RVSN USSR</td>\n",
       "      <td>Site 31/6, Baikonur Cosmodrome, Kazakhstan</td>\n",
       "      <td>1962-04-26</td>\n",
       "      <td>12:00:00</td>\n",
       "      <td>Cosmos-3M (11K65M)</td>\n",
       "      <td>DSP</td>\n",
       "      <td>Retired</td>\n",
       "      <td>450</td>\n",
       "      <td>Success</td>\n",
       "    </tr>\n",
       "    <tr>\n",
       "      <th>freq</th>\n",
       "      <td>1777</td>\n",
       "      <td>251</td>\n",
       "      <td>4</td>\n",
       "      <td>52</td>\n",
       "      <td>446</td>\n",
       "      <td>8</td>\n",
       "      <td>3620</td>\n",
       "      <td>136</td>\n",
       "      <td>4162</td>\n",
       "    </tr>\n",
       "  </tbody>\n",
       "</table>\n",
       "</div>"
      ],
      "text/plain": [
       "          Company                                    Location        Date  \\\n",
       "count        4630                                        4630        4630   \n",
       "unique         62                                         158        4180   \n",
       "top     RVSN USSR  Site 31/6, Baikonur Cosmodrome, Kazakhstan  1962-04-26   \n",
       "freq         1777                                         251           4   \n",
       "\n",
       "            Time              Rocket Mission RocketStatus Price MissionStatus  \n",
       "count       4503                4630    4630         4630  1265          4630  \n",
       "unique      1300                 370    4556            2    65             4  \n",
       "top     12:00:00  Cosmos-3M (11K65M)     DSP      Retired   450       Success  \n",
       "freq          52                 446       8         3620   136          4162  "
      ]
     },
     "execution_count": 28,
     "metadata": {},
     "output_type": "execute_result"
    }
   ],
   "source": [
    "space_missions_raw_df.describe()"
   ]
  },
  {
   "cell_type": "code",
   "execution_count": 29,
   "id": "fb038d6c-1754-4d5d-acfa-a67d3c11328c",
   "metadata": {},
   "outputs": [
    {
     "name": "stdout",
     "output_type": "stream",
     "text": [
      "<class 'pandas.core.frame.DataFrame'>\n",
      "RangeIndex: 4630 entries, 0 to 4629\n",
      "Data columns (total 9 columns):\n",
      " #   Column         Non-Null Count  Dtype \n",
      "---  ------         --------------  ----- \n",
      " 0   Company        4630 non-null   object\n",
      " 1   Location       4630 non-null   object\n",
      " 2   Date           4630 non-null   object\n",
      " 3   Time           4503 non-null   object\n",
      " 4   Rocket         4630 non-null   object\n",
      " 5   Mission        4630 non-null   object\n",
      " 6   RocketStatus   4630 non-null   object\n",
      " 7   Price          1265 non-null   object\n",
      " 8   MissionStatus  4630 non-null   object\n",
      "dtypes: object(9)\n",
      "memory usage: 325.7+ KB\n"
     ]
    }
   ],
   "source": [
    "space_missions_raw_df.info()"
   ]
  },
  {
   "cell_type": "code",
   "execution_count": 30,
   "id": "82b96c2f-835d-4035-a543-fb7027dd0295",
   "metadata": {},
   "outputs": [
    {
     "data": {
      "text/plain": [
       "Index(['Company', 'Location', 'Date', 'Time', 'Rocket', 'Mission',\n",
       "       'RocketStatus', 'Price', 'MissionStatus'],\n",
       "      dtype='object')"
      ]
     },
     "execution_count": 30,
     "metadata": {},
     "output_type": "execute_result"
    }
   ],
   "source": [
    "space_missions_raw_df.columns"
   ]
  },
  {
   "cell_type": "code",
   "execution_count": 39,
   "id": "c859f091-2f79-4d0c-8a9e-eb91a2d9b1c0",
   "metadata": {},
   "outputs": [
    {
     "data": {
      "text/html": [
       "<div>\n",
       "<style scoped>\n",
       "    .dataframe tbody tr th:only-of-type {\n",
       "        vertical-align: middle;\n",
       "    }\n",
       "\n",
       "    .dataframe tbody tr th {\n",
       "        vertical-align: top;\n",
       "    }\n",
       "\n",
       "    .dataframe thead th {\n",
       "        text-align: right;\n",
       "    }\n",
       "</style>\n",
       "<table border=\"1\" class=\"dataframe\">\n",
       "  <thead>\n",
       "    <tr style=\"text-align: right;\">\n",
       "      <th></th>\n",
       "      <th>Company</th>\n",
       "      <th>Location</th>\n",
       "      <th>Date</th>\n",
       "      <th>Rocket</th>\n",
       "      <th>Mission</th>\n",
       "      <th>RocketStatus</th>\n",
       "      <th>Price</th>\n",
       "      <th>MissionStatus</th>\n",
       "    </tr>\n",
       "  </thead>\n",
       "  <tbody>\n",
       "    <tr>\n",
       "      <th>0</th>\n",
       "      <td>RVSN USSR</td>\n",
       "      <td>Site 1/5, Baikonur Cosmodrome, Kazakhstan</td>\n",
       "      <td>1957-10-04</td>\n",
       "      <td>Sputnik 8K71PS</td>\n",
       "      <td>Sputnik-1</td>\n",
       "      <td>Retired</td>\n",
       "      <td>NaN</td>\n",
       "      <td>Success</td>\n",
       "    </tr>\n",
       "    <tr>\n",
       "      <th>1</th>\n",
       "      <td>RVSN USSR</td>\n",
       "      <td>Site 1/5, Baikonur Cosmodrome, Kazakhstan</td>\n",
       "      <td>1957-11-03</td>\n",
       "      <td>Sputnik 8K71PS</td>\n",
       "      <td>Sputnik-2</td>\n",
       "      <td>Retired</td>\n",
       "      <td>NaN</td>\n",
       "      <td>Success</td>\n",
       "    </tr>\n",
       "    <tr>\n",
       "      <th>2</th>\n",
       "      <td>US Navy</td>\n",
       "      <td>LC-18A, Cape Canaveral AFS, Florida, USA</td>\n",
       "      <td>1957-12-06</td>\n",
       "      <td>Vanguard</td>\n",
       "      <td>Vanguard TV3</td>\n",
       "      <td>Retired</td>\n",
       "      <td>NaN</td>\n",
       "      <td>Failure</td>\n",
       "    </tr>\n",
       "    <tr>\n",
       "      <th>3</th>\n",
       "      <td>AMBA</td>\n",
       "      <td>LC-26A, Cape Canaveral AFS, Florida, USA</td>\n",
       "      <td>1958-02-01</td>\n",
       "      <td>Juno I</td>\n",
       "      <td>Explorer 1</td>\n",
       "      <td>Retired</td>\n",
       "      <td>NaN</td>\n",
       "      <td>Success</td>\n",
       "    </tr>\n",
       "    <tr>\n",
       "      <th>4</th>\n",
       "      <td>US Navy</td>\n",
       "      <td>LC-18A, Cape Canaveral AFS, Florida, USA</td>\n",
       "      <td>1958-02-05</td>\n",
       "      <td>Vanguard</td>\n",
       "      <td>Vanguard TV3BU</td>\n",
       "      <td>Retired</td>\n",
       "      <td>NaN</td>\n",
       "      <td>Failure</td>\n",
       "    </tr>\n",
       "    <tr>\n",
       "      <th>...</th>\n",
       "      <td>...</td>\n",
       "      <td>...</td>\n",
       "      <td>...</td>\n",
       "      <td>...</td>\n",
       "      <td>...</td>\n",
       "      <td>...</td>\n",
       "      <td>...</td>\n",
       "      <td>...</td>\n",
       "    </tr>\n",
       "    <tr>\n",
       "      <th>4625</th>\n",
       "      <td>SpaceX</td>\n",
       "      <td>SLC-4E, Vandenberg SFB, California, USA</td>\n",
       "      <td>2022-07-22</td>\n",
       "      <td>Falcon 9 Block 5</td>\n",
       "      <td>Starlink Group 3-2</td>\n",
       "      <td>Active</td>\n",
       "      <td>67</td>\n",
       "      <td>Success</td>\n",
       "    </tr>\n",
       "    <tr>\n",
       "      <th>4626</th>\n",
       "      <td>CASC</td>\n",
       "      <td>LC-101, Wenchang Satellite Launch Center, China</td>\n",
       "      <td>2022-07-24</td>\n",
       "      <td>Long March 5B</td>\n",
       "      <td>Wentian</td>\n",
       "      <td>Active</td>\n",
       "      <td>NaN</td>\n",
       "      <td>Success</td>\n",
       "    </tr>\n",
       "    <tr>\n",
       "      <th>4627</th>\n",
       "      <td>SpaceX</td>\n",
       "      <td>LC-39A, Kennedy Space Center, Florida, USA</td>\n",
       "      <td>2022-07-24</td>\n",
       "      <td>Falcon 9 Block 5</td>\n",
       "      <td>Starlink Group 4-25</td>\n",
       "      <td>Active</td>\n",
       "      <td>67</td>\n",
       "      <td>Success</td>\n",
       "    </tr>\n",
       "    <tr>\n",
       "      <th>4628</th>\n",
       "      <td>CAS Space</td>\n",
       "      <td>Jiuquan Satellite Launch Center, China</td>\n",
       "      <td>2022-07-27</td>\n",
       "      <td>Zhongke-1A</td>\n",
       "      <td>Demo Flight</td>\n",
       "      <td>Active</td>\n",
       "      <td>NaN</td>\n",
       "      <td>Success</td>\n",
       "    </tr>\n",
       "    <tr>\n",
       "      <th>4629</th>\n",
       "      <td>CASC</td>\n",
       "      <td>LC-3, Xichang Satellite Launch Center, China</td>\n",
       "      <td>2022-07-29</td>\n",
       "      <td>Long March 2D</td>\n",
       "      <td>Yaogan 35 Group 03</td>\n",
       "      <td>Active</td>\n",
       "      <td>29.75</td>\n",
       "      <td>Success</td>\n",
       "    </tr>\n",
       "  </tbody>\n",
       "</table>\n",
       "<p>4630 rows × 8 columns</p>\n",
       "</div>"
      ],
      "text/plain": [
       "        Company                                         Location        Date  \\\n",
       "0     RVSN USSR        Site 1/5, Baikonur Cosmodrome, Kazakhstan  1957-10-04   \n",
       "1     RVSN USSR        Site 1/5, Baikonur Cosmodrome, Kazakhstan  1957-11-03   \n",
       "2       US Navy         LC-18A, Cape Canaveral AFS, Florida, USA  1957-12-06   \n",
       "3          AMBA         LC-26A, Cape Canaveral AFS, Florida, USA  1958-02-01   \n",
       "4       US Navy         LC-18A, Cape Canaveral AFS, Florida, USA  1958-02-05   \n",
       "...         ...                                              ...         ...   \n",
       "4625     SpaceX          SLC-4E, Vandenberg SFB, California, USA  2022-07-22   \n",
       "4626       CASC  LC-101, Wenchang Satellite Launch Center, China  2022-07-24   \n",
       "4627     SpaceX       LC-39A, Kennedy Space Center, Florida, USA  2022-07-24   \n",
       "4628  CAS Space           Jiuquan Satellite Launch Center, China  2022-07-27   \n",
       "4629       CASC     LC-3, Xichang Satellite Launch Center, China  2022-07-29   \n",
       "\n",
       "                Rocket              Mission RocketStatus  Price MissionStatus  \n",
       "0       Sputnik 8K71PS            Sputnik-1      Retired    NaN       Success  \n",
       "1       Sputnik 8K71PS            Sputnik-2      Retired    NaN       Success  \n",
       "2             Vanguard         Vanguard TV3      Retired    NaN       Failure  \n",
       "3               Juno I           Explorer 1      Retired    NaN       Success  \n",
       "4             Vanguard       Vanguard TV3BU      Retired    NaN       Failure  \n",
       "...                ...                  ...          ...    ...           ...  \n",
       "4625  Falcon 9 Block 5   Starlink Group 3-2       Active     67       Success  \n",
       "4626     Long March 5B              Wentian       Active    NaN       Success  \n",
       "4627  Falcon 9 Block 5  Starlink Group 4-25       Active     67       Success  \n",
       "4628        Zhongke-1A          Demo Flight       Active    NaN       Success  \n",
       "4629     Long March 2D   Yaogan 35 Group 03       Active  29.75       Success  \n",
       "\n",
       "[4630 rows x 8 columns]"
      ]
     },
     "execution_count": 39,
     "metadata": {},
     "output_type": "execute_result"
    }
   ],
   "source": [
    "df2 = space_missions_raw_df.copy() #to make copy of data to keep orignal data as it is\n",
    "df = df2.drop(columns = ['Price']) #to make dataset without price column\n",
    "space_missions_raw_df.drop(columns = ['Time'], inplace = True) #to make dataset without time column\n",
    "space_missions_raw_df"
   ]
  },
  {
   "cell_type": "code",
   "execution_count": 40,
   "id": "3a0f8c3b-340f-485d-b670-4026f78caec1",
   "metadata": {},
   "outputs": [
    {
     "data": {
      "text/plain": [
       "Retired    3620\n",
       "Active     1010\n",
       "Name: RocketStatus, dtype: int64"
      ]
     },
     "execution_count": 40,
     "metadata": {},
     "output_type": "execute_result"
    }
   ],
   "source": [
    "space_missions_raw_df['RocketStatus'].value_counts() #to check if there's any exceptional value in dataset"
   ]
  },
  {
   "cell_type": "code",
   "execution_count": 41,
   "id": "72f09bb8-7975-480c-b1f5-15dbe6e6de1a",
   "metadata": {},
   "outputs": [
    {
     "data": {
      "text/plain": [
       "Success              4162\n",
       "Failure               357\n",
       "Partial Failure       107\n",
       "Prelaunch Failure       4\n",
       "Name: MissionStatus, dtype: int64"
      ]
     },
     "execution_count": 41,
     "metadata": {},
     "output_type": "execute_result"
    }
   ],
   "source": [
    "space_missions_raw_df['MissionStatus'].value_counts() #to check if there's any exceptional value in dataset"
   ]
  },
  {
   "cell_type": "markdown",
   "id": "dcf2ac9b-9b18-48da-b721-5a971acf0c6c",
   "metadata": {},
   "source": [
    "# Data Visualization"
   ]
  },
  {
   "cell_type": "code",
   "execution_count": 42,
   "id": "d0498975-ec9c-40cf-bb1c-0a151c9195bf",
   "metadata": {},
   "outputs": [
    {
     "data": {
      "text/html": [
       "<div>\n",
       "<style scoped>\n",
       "    .dataframe tbody tr th:only-of-type {\n",
       "        vertical-align: middle;\n",
       "    }\n",
       "\n",
       "    .dataframe tbody tr th {\n",
       "        vertical-align: top;\n",
       "    }\n",
       "\n",
       "    .dataframe thead th {\n",
       "        text-align: right;\n",
       "    }\n",
       "</style>\n",
       "<table border=\"1\" class=\"dataframe\">\n",
       "  <thead>\n",
       "    <tr style=\"text-align: right;\">\n",
       "      <th></th>\n",
       "      <th>Company</th>\n",
       "      <th>Location</th>\n",
       "      <th>Date</th>\n",
       "      <th>Rocket</th>\n",
       "      <th>Mission</th>\n",
       "      <th>RocketStatus</th>\n",
       "      <th>Price</th>\n",
       "      <th>MissionStatus</th>\n",
       "      <th>year</th>\n",
       "    </tr>\n",
       "  </thead>\n",
       "  <tbody>\n",
       "    <tr>\n",
       "      <th>0</th>\n",
       "      <td>RVSN USSR</td>\n",
       "      <td>Site 1/5, Baikonur Cosmodrome, Kazakhstan</td>\n",
       "      <td>1957-10-04</td>\n",
       "      <td>Sputnik 8K71PS</td>\n",
       "      <td>Sputnik-1</td>\n",
       "      <td>Retired</td>\n",
       "      <td>NaN</td>\n",
       "      <td>Success</td>\n",
       "      <td>1957</td>\n",
       "    </tr>\n",
       "    <tr>\n",
       "      <th>1</th>\n",
       "      <td>RVSN USSR</td>\n",
       "      <td>Site 1/5, Baikonur Cosmodrome, Kazakhstan</td>\n",
       "      <td>1957-11-03</td>\n",
       "      <td>Sputnik 8K71PS</td>\n",
       "      <td>Sputnik-2</td>\n",
       "      <td>Retired</td>\n",
       "      <td>NaN</td>\n",
       "      <td>Success</td>\n",
       "      <td>1957</td>\n",
       "    </tr>\n",
       "    <tr>\n",
       "      <th>2</th>\n",
       "      <td>US Navy</td>\n",
       "      <td>LC-18A, Cape Canaveral AFS, Florida, USA</td>\n",
       "      <td>1957-12-06</td>\n",
       "      <td>Vanguard</td>\n",
       "      <td>Vanguard TV3</td>\n",
       "      <td>Retired</td>\n",
       "      <td>NaN</td>\n",
       "      <td>Failure</td>\n",
       "      <td>1957</td>\n",
       "    </tr>\n",
       "    <tr>\n",
       "      <th>3</th>\n",
       "      <td>AMBA</td>\n",
       "      <td>LC-26A, Cape Canaveral AFS, Florida, USA</td>\n",
       "      <td>1958-02-01</td>\n",
       "      <td>Juno I</td>\n",
       "      <td>Explorer 1</td>\n",
       "      <td>Retired</td>\n",
       "      <td>NaN</td>\n",
       "      <td>Success</td>\n",
       "      <td>1958</td>\n",
       "    </tr>\n",
       "    <tr>\n",
       "      <th>4</th>\n",
       "      <td>US Navy</td>\n",
       "      <td>LC-18A, Cape Canaveral AFS, Florida, USA</td>\n",
       "      <td>1958-02-05</td>\n",
       "      <td>Vanguard</td>\n",
       "      <td>Vanguard TV3BU</td>\n",
       "      <td>Retired</td>\n",
       "      <td>NaN</td>\n",
       "      <td>Failure</td>\n",
       "      <td>1958</td>\n",
       "    </tr>\n",
       "  </tbody>\n",
       "</table>\n",
       "</div>"
      ],
      "text/plain": [
       "     Company                                   Location        Date  \\\n",
       "0  RVSN USSR  Site 1/5, Baikonur Cosmodrome, Kazakhstan  1957-10-04   \n",
       "1  RVSN USSR  Site 1/5, Baikonur Cosmodrome, Kazakhstan  1957-11-03   \n",
       "2    US Navy   LC-18A, Cape Canaveral AFS, Florida, USA  1957-12-06   \n",
       "3       AMBA   LC-26A, Cape Canaveral AFS, Florida, USA  1958-02-01   \n",
       "4    US Navy   LC-18A, Cape Canaveral AFS, Florida, USA  1958-02-05   \n",
       "\n",
       "           Rocket         Mission RocketStatus Price MissionStatus  year  \n",
       "0  Sputnik 8K71PS       Sputnik-1      Retired   NaN       Success  1957  \n",
       "1  Sputnik 8K71PS       Sputnik-2      Retired   NaN       Success  1957  \n",
       "2        Vanguard    Vanguard TV3      Retired   NaN       Failure  1957  \n",
       "3          Juno I      Explorer 1      Retired   NaN       Success  1958  \n",
       "4        Vanguard  Vanguard TV3BU      Retired   NaN       Failure  1958  "
      ]
     },
     "execution_count": 42,
     "metadata": {},
     "output_type": "execute_result"
    }
   ],
   "source": [
    "space_missions_raw_df= space_missions_raw_df.copy() #to keep orignal data untouched\n",
    "space_missions_raw_df['year'] = pd.DatetimeIndex(space_missions_raw_df.Date).year #to add a new column of year\n",
    "space_missions_raw_df.head(5) #to check if the changes take place"
   ]
  },
  {
   "cell_type": "code",
   "execution_count": 44,
   "id": "290da3ae-8d00-4e03-90d1-ee6be8057887",
   "metadata": {},
   "outputs": [
    {
     "data": {
      "text/plain": [
       "year\n",
       "1957      3\n",
       "1959     20\n",
       "1958     28\n",
       "2005     37\n",
       "2010     37\n",
       "       ... \n",
       "1977    114\n",
       "2018    117\n",
       "2020    119\n",
       "1971    119\n",
       "2021    157\n",
       "Length: 66, dtype: int64"
      ]
     },
     "execution_count": 44,
     "metadata": {},
     "output_type": "execute_result"
    }
   ],
   "source": [
    "space_missions_raw_df.value_counts(space_missions_raw_df.year,ascending = True) #to count total number of missions"
   ]
  },
  {
   "cell_type": "code",
   "execution_count": 45,
   "id": "32b0b93f-f318-4468-bc74-a4bc66f8ef75",
   "metadata": {},
   "outputs": [],
   "source": [
    "#function to make seperate column for particluar value\n",
    "def split_multicolumn(col_series):\n",
    "    result_df = col_series.to_frame()\n",
    "    options = []\n",
    "    # Iterate over the column\n",
    "    for idx, value in col_series[col_series.notnull()].iteritems():\n",
    "        # Break each value into list of options\n",
    "        for option in value.split(';'):\n",
    "            # Add the option as a column to result\n",
    "            if not option in result_df.columns:\n",
    "                options.append(option)\n",
    "                result_df[option] = False\n",
    "            # Mark the value in the option column as True\n",
    "            result_df.at[idx, option] = True\n",
    "    return result_df[options]\n"
   ]
  },
  {
   "cell_type": "code",
   "execution_count": 50,
   "id": "66e912f7-a008-4927-9d4e-125e45fd4bc6",
   "metadata": {},
   "outputs": [],
   "source": [
    "import pandas as pd\n",
    "\n",
    "# Example of reading the DataFrame from a CSV file\n",
    "# Corrected line of code\n",
    "space_missions_yearly_df = pd.read_csv('space_missions.csv', encoding='latin1')\n",
    "\n"
   ]
  },
  {
   "cell_type": "code",
   "execution_count": 54,
   "id": "aafba1cf-676b-4771-82f8-263fbd70fbf3",
   "metadata": {},
   "outputs": [
    {
     "name": "stdout",
     "output_type": "stream",
     "text": [
      "Index(['Company', 'Location', 'Date', 'Time', 'Rocket', 'Mission',\n",
      "       'RocketStatus', 'Price', 'MissionStatus'],\n",
      "      dtype='object')\n"
     ]
    }
   ],
   "source": [
    "# Display the columns of the DataFrame\n",
    "print(space_missions_yearly_df.columns)\n"
   ]
  },
  {
   "cell_type": "code",
   "execution_count": 56,
   "id": "12d2e9a4-3552-4816-8fd7-0a7b1994cc26",
   "metadata": {},
   "outputs": [
    {
     "name": "stdout",
     "output_type": "stream",
     "text": [
      "Index(['Company', 'Location', 'Date', 'Time', 'Rocket', 'Mission',\n",
      "       'RocketStatus', 'Price', 'MissionStatus'],\n",
      "      dtype='object')\n"
     ]
    }
   ],
   "source": [
    "# Print the column names to see what's available\n",
    "print(space_missions_yearly_df.columns)\n"
   ]
  },
  {
   "cell_type": "code",
   "execution_count": 58,
   "id": "b22ea6eb-29ab-44c7-b519-e8f2278fa86a",
   "metadata": {},
   "outputs": [],
   "source": [
    "# Replace 'correct_column_name' with the actual column name that contains the date\n",
    "space_missions_yearly_df['year'] = pd.to_datetime(space_missions_yearly_df['Date']).dt.year\n"
   ]
  },
  {
   "cell_type": "code",
   "execution_count": 59,
   "id": "56b30a0a-bc11-4e29-916b-d95ea64c67e7",
   "metadata": {},
   "outputs": [
    {
     "name": "stderr",
     "output_type": "stream",
     "text": [
      "/tmp/ipykernel_77/1526547991.py:6: FutureWarning: iteritems is deprecated and will be removed in a future version. Use .items instead.\n",
      "  for idx, value in col_series[col_series.notnull()].iteritems():\n"
     ]
    },
    {
     "data": {
      "text/html": [
       "<div>\n",
       "<style scoped>\n",
       "    .dataframe tbody tr th:only-of-type {\n",
       "        vertical-align: middle;\n",
       "    }\n",
       "\n",
       "    .dataframe tbody tr th {\n",
       "        vertical-align: top;\n",
       "    }\n",
       "\n",
       "    .dataframe thead th {\n",
       "        text-align: right;\n",
       "    }\n",
       "</style>\n",
       "<table border=\"1\" class=\"dataframe\">\n",
       "  <thead>\n",
       "    <tr style=\"text-align: right;\">\n",
       "      <th></th>\n",
       "      <th>Success</th>\n",
       "      <th>Failure</th>\n",
       "      <th>Partial Failure</th>\n",
       "      <th>Prelaunch Failure</th>\n",
       "      <th>year</th>\n",
       "    </tr>\n",
       "  </thead>\n",
       "  <tbody>\n",
       "    <tr>\n",
       "      <th>0</th>\n",
       "      <td>True</td>\n",
       "      <td>False</td>\n",
       "      <td>False</td>\n",
       "      <td>False</td>\n",
       "      <td>1957</td>\n",
       "    </tr>\n",
       "    <tr>\n",
       "      <th>1</th>\n",
       "      <td>True</td>\n",
       "      <td>False</td>\n",
       "      <td>False</td>\n",
       "      <td>False</td>\n",
       "      <td>1957</td>\n",
       "    </tr>\n",
       "    <tr>\n",
       "      <th>2</th>\n",
       "      <td>False</td>\n",
       "      <td>True</td>\n",
       "      <td>False</td>\n",
       "      <td>False</td>\n",
       "      <td>1957</td>\n",
       "    </tr>\n",
       "    <tr>\n",
       "      <th>3</th>\n",
       "      <td>True</td>\n",
       "      <td>False</td>\n",
       "      <td>False</td>\n",
       "      <td>False</td>\n",
       "      <td>1958</td>\n",
       "    </tr>\n",
       "    <tr>\n",
       "      <th>4</th>\n",
       "      <td>False</td>\n",
       "      <td>True</td>\n",
       "      <td>False</td>\n",
       "      <td>False</td>\n",
       "      <td>1958</td>\n",
       "    </tr>\n",
       "  </tbody>\n",
       "</table>\n",
       "</div>"
      ],
      "text/plain": [
       "   Success  Failure  Partial Failure  Prelaunch Failure  year\n",
       "0     True    False            False              False  1957\n",
       "1     True    False            False              False  1957\n",
       "2    False     True            False              False  1957\n",
       "3     True    False            False              False  1958\n",
       "4    False     True            False              False  1958"
      ]
     },
     "execution_count": 59,
     "metadata": {},
     "output_type": "execute_result"
    }
   ],
   "source": [
    "success_yearly_df = split_multicolumn(space_missions_yearly_df.MissionStatus)\n",
    "success_yearly_df['year'] = space_missions_yearly_df.year #to add year column for easy understanding\n",
    "success_yearly_df.head(5)"
   ]
  },
  {
   "cell_type": "code",
   "execution_count": 60,
   "id": "09cbb41e-b782-4730-9cba-8fc10c6bde26",
   "metadata": {},
   "outputs": [
    {
     "data": {
      "text/html": [
       "<div>\n",
       "<style scoped>\n",
       "    .dataframe tbody tr th:only-of-type {\n",
       "        vertical-align: middle;\n",
       "    }\n",
       "\n",
       "    .dataframe tbody tr th {\n",
       "        vertical-align: top;\n",
       "    }\n",
       "\n",
       "    .dataframe thead th {\n",
       "        text-align: right;\n",
       "    }\n",
       "</style>\n",
       "<table border=\"1\" class=\"dataframe\">\n",
       "  <thead>\n",
       "    <tr style=\"text-align: right;\">\n",
       "      <th></th>\n",
       "      <th>Success</th>\n",
       "    </tr>\n",
       "    <tr>\n",
       "      <th>year</th>\n",
       "      <th></th>\n",
       "    </tr>\n",
       "  </thead>\n",
       "  <tbody>\n",
       "    <tr>\n",
       "      <th>1957</th>\n",
       "      <td>2</td>\n",
       "    </tr>\n",
       "    <tr>\n",
       "      <th>1958</th>\n",
       "      <td>6</td>\n",
       "    </tr>\n",
       "    <tr>\n",
       "      <th>1959</th>\n",
       "      <td>8</td>\n",
       "    </tr>\n",
       "    <tr>\n",
       "      <th>1960</th>\n",
       "      <td>19</td>\n",
       "    </tr>\n",
       "    <tr>\n",
       "      <th>1961</th>\n",
       "      <td>32</td>\n",
       "    </tr>\n",
       "    <tr>\n",
       "      <th>...</th>\n",
       "      <td>...</td>\n",
       "    </tr>\n",
       "    <tr>\n",
       "      <th>2018</th>\n",
       "      <td>113</td>\n",
       "    </tr>\n",
       "    <tr>\n",
       "      <th>2019</th>\n",
       "      <td>100</td>\n",
       "    </tr>\n",
       "    <tr>\n",
       "      <th>2020</th>\n",
       "      <td>107</td>\n",
       "    </tr>\n",
       "    <tr>\n",
       "      <th>2021</th>\n",
       "      <td>143</td>\n",
       "    </tr>\n",
       "    <tr>\n",
       "      <th>2022</th>\n",
       "      <td>90</td>\n",
       "    </tr>\n",
       "  </tbody>\n",
       "</table>\n",
       "<p>66 rows × 1 columns</p>\n",
       "</div>"
      ],
      "text/plain": [
       "      Success\n",
       "year         \n",
       "1957        2\n",
       "1958        6\n",
       "1959        8\n",
       "1960       19\n",
       "1961       32\n",
       "...       ...\n",
       "2018      113\n",
       "2019      100\n",
       "2020      107\n",
       "2021      143\n",
       "2022       90\n",
       "\n",
       "[66 rows x 1 columns]"
      ]
     },
     "execution_count": 60,
     "metadata": {},
     "output_type": "execute_result"
    }
   ],
   "source": [
    "success_yearly2_df = success_yearly_df.groupby('year')[['Success']].sum() #grouping for future visualization\n",
    "success_yearly2_df"
   ]
  },
  {
   "cell_type": "code",
   "execution_count": 61,
   "id": "274a5638-f162-49c9-8cb1-90c6a30d3a1f",
   "metadata": {},
   "outputs": [
    {
     "data": {
      "image/png": "[encoded data removed]",
      "text/plain": [
       "<Figure size 640x480 with 1 Axes>"
      ]
     },
     "metadata": {},
     "output_type": "display_data"
    }
   ],
   "source": [
    "plt.title('Space missions vs successful missions') #for creating title\n",
    "plt.plot(space_missions_yearly_df.value_counts(space_missions_yearly_df.year,ascending = True), success_yearly2_df.Success,'-r') #for creating line chart\n",
    "plt.xlabel('Number of space missions took place') #for labeling x-axis\n",
    "plt.ylabel('Number of times mission is completly successful'); #for labeling y-axis\n",
    "sns.set_style('whitegrid')"
   ]
  },
  {
   "cell_type": "code",
   "execution_count": 64,
   "id": "b8cab88d-b7ee-4805-aa29-bd851c6f134f",
   "metadata": {},
   "outputs": [],
   "source": [
    "# Example of reading the DataFrame from a CSV file\n",
    "space_missions_df = pd.read_csv('space_missions.csv', encoding='latin1')\n"
   ]
  },
  {
   "cell_type": "code",
   "execution_count": 65,
   "id": "26506bf8-3ca7-4a08-9e4f-697eb7153252",
   "metadata": {},
   "outputs": [
    {
     "data": {
      "text/html": [
       "<div>\n",
       "<style scoped>\n",
       "    .dataframe tbody tr th:only-of-type {\n",
       "        vertical-align: middle;\n",
       "    }\n",
       "\n",
       "    .dataframe tbody tr th {\n",
       "        vertical-align: top;\n",
       "    }\n",
       "\n",
       "    .dataframe thead th {\n",
       "        text-align: right;\n",
       "    }\n",
       "</style>\n",
       "<table border=\"1\" class=\"dataframe\">\n",
       "  <thead>\n",
       "    <tr style=\"text-align: right;\">\n",
       "      <th></th>\n",
       "      <th>Company</th>\n",
       "      <th>Location</th>\n",
       "      <th>Date</th>\n",
       "      <th>Time</th>\n",
       "      <th>Rocket</th>\n",
       "      <th>Mission</th>\n",
       "      <th>RocketStatus</th>\n",
       "      <th>Price</th>\n",
       "      <th>MissionStatus</th>\n",
       "      <th>Country</th>\n",
       "      <th>year</th>\n",
       "    </tr>\n",
       "  </thead>\n",
       "  <tbody>\n",
       "    <tr>\n",
       "      <th>0</th>\n",
       "      <td>RVSN USSR</td>\n",
       "      <td>Site 1/5, Baikonur Cosmodrome, Kazakhstan</td>\n",
       "      <td>1957-10-04</td>\n",
       "      <td>19:28:00</td>\n",
       "      <td>Sputnik 8K71PS</td>\n",
       "      <td>Sputnik-1</td>\n",
       "      <td>Retired</td>\n",
       "      <td>NaN</td>\n",
       "      <td>Success</td>\n",
       "      <td>Kazakhstan</td>\n",
       "      <td>1957</td>\n",
       "    </tr>\n",
       "    <tr>\n",
       "      <th>1</th>\n",
       "      <td>RVSN USSR</td>\n",
       "      <td>Site 1/5, Baikonur Cosmodrome, Kazakhstan</td>\n",
       "      <td>1957-11-03</td>\n",
       "      <td>02:30:00</td>\n",
       "      <td>Sputnik 8K71PS</td>\n",
       "      <td>Sputnik-2</td>\n",
       "      <td>Retired</td>\n",
       "      <td>NaN</td>\n",
       "      <td>Success</td>\n",
       "      <td>Kazakhstan</td>\n",
       "      <td>1957</td>\n",
       "    </tr>\n",
       "    <tr>\n",
       "      <th>2</th>\n",
       "      <td>US Navy</td>\n",
       "      <td>LC-18A, Cape Canaveral AFS, Florida, USA</td>\n",
       "      <td>1957-12-06</td>\n",
       "      <td>16:44:00</td>\n",
       "      <td>Vanguard</td>\n",
       "      <td>Vanguard TV3</td>\n",
       "      <td>Retired</td>\n",
       "      <td>NaN</td>\n",
       "      <td>Failure</td>\n",
       "      <td>USA</td>\n",
       "      <td>1957</td>\n",
       "    </tr>\n",
       "    <tr>\n",
       "      <th>3</th>\n",
       "      <td>AMBA</td>\n",
       "      <td>LC-26A, Cape Canaveral AFS, Florida, USA</td>\n",
       "      <td>1958-02-01</td>\n",
       "      <td>03:48:00</td>\n",
       "      <td>Juno I</td>\n",
       "      <td>Explorer 1</td>\n",
       "      <td>Retired</td>\n",
       "      <td>NaN</td>\n",
       "      <td>Success</td>\n",
       "      <td>USA</td>\n",
       "      <td>1958</td>\n",
       "    </tr>\n",
       "    <tr>\n",
       "      <th>4</th>\n",
       "      <td>US Navy</td>\n",
       "      <td>LC-18A, Cape Canaveral AFS, Florida, USA</td>\n",
       "      <td>1958-02-05</td>\n",
       "      <td>07:33:00</td>\n",
       "      <td>Vanguard</td>\n",
       "      <td>Vanguard TV3BU</td>\n",
       "      <td>Retired</td>\n",
       "      <td>NaN</td>\n",
       "      <td>Failure</td>\n",
       "      <td>USA</td>\n",
       "      <td>1958</td>\n",
       "    </tr>\n",
       "  </tbody>\n",
       "</table>\n",
       "</div>"
      ],
      "text/plain": [
       "     Company                                   Location        Date      Time  \\\n",
       "0  RVSN USSR  Site 1/5, Baikonur Cosmodrome, Kazakhstan  1957-10-04  19:28:00   \n",
       "1  RVSN USSR  Site 1/5, Baikonur Cosmodrome, Kazakhstan  1957-11-03  02:30:00   \n",
       "2    US Navy   LC-18A, Cape Canaveral AFS, Florida, USA  1957-12-06  16:44:00   \n",
       "3       AMBA   LC-26A, Cape Canaveral AFS, Florida, USA  1958-02-01  03:48:00   \n",
       "4    US Navy   LC-18A, Cape Canaveral AFS, Florida, USA  1958-02-05  07:33:00   \n",
       "\n",
       "           Rocket         Mission RocketStatus Price MissionStatus  \\\n",
       "0  Sputnik 8K71PS       Sputnik-1      Retired   NaN       Success   \n",
       "1  Sputnik 8K71PS       Sputnik-2      Retired   NaN       Success   \n",
       "2        Vanguard    Vanguard TV3      Retired   NaN       Failure   \n",
       "3          Juno I      Explorer 1      Retired   NaN       Success   \n",
       "4        Vanguard  Vanguard TV3BU      Retired   NaN       Failure   \n",
       "\n",
       "       Country  year  \n",
       "0   Kazakhstan  1957  \n",
       "1   Kazakhstan  1957  \n",
       "2          USA  1957  \n",
       "3          USA  1958  \n",
       "4          USA  1958  "
      ]
     },
     "execution_count": 65,
     "metadata": {},
     "output_type": "execute_result"
    }
   ],
   "source": [
    "mission_location_df = space_missions_df.copy() #to keep orignal data untouched\n",
    "mission_location_df['Country'] = mission_location_df['Location'].str.split(',').apply(lambda x: x[-1]) #to split and make new column of country\n",
    "mission_location_df['year'] = pd.DatetimeIndex(mission_location_df.Date).year\n",
    "mission_location_df.head(5)"
   ]
  },
  {
   "cell_type": "code",
   "execution_count": 66,
   "id": "d5300514-d628-4561-96cb-80417c7b5afd",
   "metadata": {},
   "outputs": [
    {
     "data": {
      "text/plain": [
       " USA              1467\n",
       " Russia           1416\n",
       " Kazakhstan        719\n",
       " China             365\n",
       " France            318\n",
       " Japan             130\n",
       " India              82\n",
       " Pacific Ocean      36\n",
       " New Zealand        28\n",
       " Iran               16\n",
       "Name: Country, dtype: int64"
      ]
     },
     "execution_count": 66,
     "metadata": {},
     "output_type": "execute_result"
    }
   ],
   "source": [
    "country_count = mission_location_df.Country.value_counts().head(10) #to count number of missions each country have done\n",
    "country_count"
   ]
  },
  {
   "cell_type": "code",
   "execution_count": 67,
   "id": "608e76b5-9ecc-4f6f-8b14-cb4086bb06bc",
   "metadata": {},
   "outputs": [
    {
     "data": {
      "image/png": "[encoded data removed]",
      "text/plain": [
       "<Figure size 640x480 with 1 Axes>"
      ]
     },
     "metadata": {},
     "output_type": "display_data"
    }
   ],
   "source": [
    "sns.barplot(x = country_count, y = country_count.index) #to make bar graph\n",
    "plt.title('Countries with most space missions') #to create title\n",
    "plt.xlabel('Number of missions'); #to label x-axis"
   ]
  },
  {
   "cell_type": "code",
   "execution_count": 68,
   "id": "9a3c57fb-c775-464c-8856-60f7d0213760",
   "metadata": {},
   "outputs": [
    {
     "data": {
      "text/plain": [
       "Country      MissionStatus\n",
       " Russia      Success          1323\n",
       " USA         Success          1298\n",
       " Kazakhstan  Success           625\n",
       " China       Success           335\n",
       " France      Success           299\n",
       " USA         Failure           134\n",
       " Japan       Success           117\n",
       " Kazakhstan  Failure            72\n",
       " India       Success            68\n",
       " Russia      Failure            63\n",
       "dtype: int64"
      ]
     },
     "execution_count": 68,
     "metadata": {},
     "output_type": "execute_result"
    }
   ],
   "source": [
    "mission_location_df[['Country','MissionStatus']].value_counts().head(10) #to know count of successful missions"
   ]
  },
  {
   "cell_type": "raw",
   "id": "f6c2a4bb-2fbf-4877-867b-d82e9c3e7a98",
   "metadata": {},
   "source": [
    "As it is clear from the above Russia have the most successful mission followed by USA.\n",
    "\n",
    "Space rocket that mostly used"
   ]
  },
  {
   "cell_type": "code",
   "execution_count": 69,
   "id": "b100e835-9ded-4a45-a225-73fd66118b47",
   "metadata": {},
   "outputs": [
    {
     "data": {
      "text/plain": [
       "Cosmos-3M (11K65M)      446\n",
       "Voskhod                 299\n",
       "Molniya-M /Block ML     128\n",
       "Cosmos-2I (63SM)        126\n",
       "Soyuz U                 125\n",
       "Tsyklon-3               122\n",
       "Falcon 9 Block 5        111\n",
       "Tsyklon-2               106\n",
       "Vostok-2M                93\n",
       "Molniya-M /Block 2BL     87\n",
       "Name: Rocket, dtype: int64"
      ]
     },
     "execution_count": 69,
     "metadata": {},
     "output_type": "execute_result"
    }
   ],
   "source": [
    "rockets_df = space_missions_df.Rocket.value_counts().head(10) #to know count of rockets used in missions\n",
    "rockets_df"
   ]
  },
  {
   "cell_type": "code",
   "execution_count": 70,
   "id": "249be79e-8564-4ce6-a845-15c257399b06",
   "metadata": {},
   "outputs": [
    {
     "data": {
      "image/png": "[encoded data removed]",
      "text/plain": [
       "<Figure size 640x480 with 1 Axes>"
      ]
     },
     "metadata": {},
     "output_type": "display_data"
    }
   ],
   "source": [
    "plt.title('Rocket that mostly used') #to create title\n",
    "sns.barplot(x = rockets_df.index, y = rockets_df) #to create bar graph\n",
    "plt.xticks(rotation = 75); #to rotate x-axis labels for clear visualization"
   ]
  },
  {
   "cell_type": "code",
   "execution_count": 71,
   "id": "49a06c73-135c-4d53-adb6-8202cccaa321",
   "metadata": {},
   "outputs": [
    {
     "data": {
      "text/plain": [
       "Rocket                RocketStatus\n",
       "Cosmos-3M (11K65M)    Retired         446\n",
       "Voskhod               Retired         299\n",
       "Molniya-M /Block ML   Retired         128\n",
       "Cosmos-2I (63SM)      Retired         126\n",
       "Soyuz U               Retired         125\n",
       "Tsyklon-3             Retired         122\n",
       "Falcon 9 Block 5      Active          111\n",
       "Tsyklon-2             Retired         106\n",
       "Vostok-2M             Retired          93\n",
       "Molniya-M /Block 2BL  Retired          87\n",
       "dtype: int64"
      ]
     },
     "execution_count": 71,
     "metadata": {},
     "output_type": "execute_result"
    }
   ],
   "source": [
    "space_missions_df[['Rocket','RocketStatus']].value_counts().head(10) #to know status of mostly used rockets"
   ]
  },
  {
   "cell_type": "raw",
   "id": "41bc243b-2196-4676-9c80-b77352074647",
   "metadata": {},
   "source": [
    "As it can be clearly seen that the mostly used rocket Cosmos-3M (11K65M) is no longer in service.\n",
    "\n",
    "Success with failure comparison"
   ]
  },
  {
   "cell_type": "code",
   "execution_count": 72,
   "id": "47c0049a-c427-44f3-b5be-6de16e7202e4",
   "metadata": {},
   "outputs": [
    {
     "data": {
      "text/plain": [
       "Success              4162\n",
       "Failure               357\n",
       "Partial Failure       107\n",
       "Prelaunch Failure       4\n",
       "Name: MissionStatus, dtype: int64"
      ]
     },
     "execution_count": 72,
     "metadata": {},
     "output_type": "execute_result"
    }
   ],
   "source": [
    "space_missions_df.MissionStatus.value_counts() #to count mission status"
   ]
  },
  {
   "cell_type": "code",
   "execution_count": 73,
   "id": "9c2ece70-861a-4512-87d3-1a860eb5cfce",
   "metadata": {},
   "outputs": [
    {
     "data": {
      "image/png": "[encoded data removed]",
      "text/plain": [
       "<Figure size 640x480 with 1 Axes>"
      ]
     },
     "metadata": {},
     "output_type": "display_data"
    }
   ],
   "source": [
    "plt.title('comparison between mission status of space missions') #for creating title\n",
    "plt.pie(space_missions_df.MissionStatus.value_counts().head(3),labels=['Success','Failure','Partial Failure']); #to create pie chart"
   ]
  },
  {
   "cell_type": "code",
   "execution_count": 74,
   "id": "8e74f894-3a61-4996-ab7f-728361b356c3",
   "metadata": {},
   "outputs": [
    {
     "data": {
      "image/png": "[encoded data removed]",
      "text/plain": [
       "<Figure size 640x480 with 1 Axes>"
      ]
     },
     "metadata": {},
     "output_type": "display_data"
    }
   ],
   "source": [
    "sns.barplot(x = space_missions_df.Company.value_counts().head(10),\n",
    "            y = space_missions_df.Company.value_counts().head(10).index); #to create bar chart for the companies"
   ]
  },
  {
   "cell_type": "markdown",
   "id": "f3ce0b6e-4e3f-4b55-a090-b54213981bc1",
   "metadata": {},
   "source": [
    "## Conslusion"
   ]
  },
  {
   "cell_type": "raw",
   "id": "cace7b38-38aa-48a9-bf2c-22833a126b6d",
   "metadata": {},
   "source": [
    "From the processing of data and visualisation of data there are some key points that are extracted.\n",
    "\n",
    "With time number of space missions increased but there's no uniform growth in chances of success.\n",
    "despite most space missions carried by USA throughout the time but Russia have more successful missions.\n",
    "Cosmos-3M (11K65M) is mostly used rocket but is now retired from the services.\n",
    "All the missions that have taken place since now success of the missions are far more than failure.\n",
    "RVSN USSR clearly is dominating company for most of the space missions that are carried."
   ]
  }
 ],
 "metadata": {
  "kernelspec": {
   "display_name": "Python 3 (ipykernel)",
   "language": "python",
   "name": "python3"
  },
  "language_info": {
   "codemirror_mode": {
    "name": "ipython",
    "version": 3
   },
   "file_extension": ".py",
   "mimetype": "text/x-python",
   "name": "python",
   "nbconvert_exporter": "python",
   "pygments_lexer": "ipython3",
   "version": "3.10.8"
  }
 },
 "nbformat": 4,
 "nbformat_minor": 5
}
